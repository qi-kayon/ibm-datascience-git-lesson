{
  "nbformat": 4,
  "nbformat_minor": 0,
  "metadata": {
    "colab": {
      "provenance": []
    },
    "kernelspec": {
      "name": "python3",
      "display_name": "Python 3"
    },
    "language_info": {
      "name": "python"
    }
  },
  "cells": [
    {
      "cell_type": "markdown",
      "source": [
        "# Data Science Eco System"
      ],
      "metadata": {
        "id": "jOBqtKIeEWXD"
      }
    },
    {
      "cell_type": "markdown",
      "source": [
        "In this notebook, Data Science Tools and Ecosystem are summarized."
      ],
      "metadata": {
        "id": "8jp0ZGnZFvH-"
      }
    },
    {
      "cell_type": "markdown",
      "source": [
        "**Objectives:**\n",
        "- List popular languages for Data Science\n",
        "- List commonly used libraries in Data Science\n",
        "- Display a table of common Data Science tools\n",
        "- Show examples of expressions in Python"
      ],
      "metadata": {
        "id": "gYs10arAKKLF"
      }
    },
    {
      "cell_type": "markdown",
      "source": [
        "Some of the popular languages that Data Scientists use are:\n",
        "\n",
        "1. R\n",
        "2. Python\n",
        "3. SQL"
      ],
      "metadata": {
        "id": "s1y7tHL1GG7A"
      }
    },
    {
      "cell_type": "markdown",
      "source": [
        "Some of the commonly used libraries used by Data Scientists include:\n",
        "\n",
        "1. matplotlib\n",
        "2. ggplot\n",
        "3. pandas  "
      ],
      "metadata": {
        "id": "htS0zYxoHNx1"
      }
    },
    {
      "cell_type": "markdown",
      "source": [
        "Data Science Tools|\n",
        "-----|\n",
        "RStudio\n",
        "Anaconda\n",
        "Colaboratory (Google)\n",
        "\n"
      ],
      "metadata": {
        "id": "x0qZ0FuZH4sm"
      }
    },
    {
      "cell_type": "markdown",
      "source": [
        "### Below are a few examples of evaluating arithmetic expressions in Python."
      ],
      "metadata": {
        "id": "kbtNoB3II-Od"
      }
    },
    {
      "cell_type": "code",
      "source": [
        "# This a simple arithmetic expression to mutiply then add integers\n",
        "\n",
        "(3*4)+5\n"
      ],
      "metadata": {
        "colab": {
          "base_uri": "https://localhost:8080/"
        },
        "id": "5IegGbHsJZYM",
        "outputId": "454ee2d0-c19b-4a81-db63-11f3d2b6080f"
      },
      "execution_count": 2,
      "outputs": [
        {
          "output_type": "execute_result",
          "data": {
            "text/plain": [
              "17"
            ]
          },
          "metadata": {},
          "execution_count": 2
        }
      ]
    },
    {
      "cell_type": "code",
      "source": [
        "# This will convert 200 minutes to hours by diving by 60.\n",
        "\n",
        "200/60"
      ],
      "metadata": {
        "colab": {
          "base_uri": "https://localhost:8080/"
        },
        "id": "5UsdeZQQJlT5",
        "outputId": "a9e5fb55-0f56-4b29-d8a9-08efbff7f139"
      },
      "execution_count": 3,
      "outputs": [
        {
          "output_type": "execute_result",
          "data": {
            "text/plain": [
              "3.3333333333333335"
            ]
          },
          "metadata": {},
          "execution_count": 3
        }
      ]
    }
  ]
}